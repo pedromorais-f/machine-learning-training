{
 "cells": [
  {
   "cell_type": "code",
   "execution_count": 7,
   "metadata": {},
   "outputs": [],
   "source": [
    "from mlflow import MlflowClient\n",
    "from pprint import pprint"
   ]
  },
  {
   "cell_type": "code",
   "execution_count": 8,
   "metadata": {},
   "outputs": [],
   "source": [
    "client = MlflowClient(tracking_uri=\"http://127.0.0.1:8080\")"
   ]
  },
  {
   "cell_type": "code",
   "execution_count": 13,
   "metadata": {},
   "outputs": [
    {
     "name": "stdout",
     "output_type": "stream",
     "text": [
      "MLFlow-Start\n"
     ]
    }
   ],
   "source": [
    "all_experiments = client.search_experiments()\n",
    "\n",
    "print(all_experiments[0].name)"
   ]
  },
  {
   "cell_type": "code",
   "execution_count": 15,
   "metadata": {},
   "outputs": [
    {
     "name": "stdout",
     "output_type": "stream",
     "text": [
      "{'lifecycle_stage': 'active', 'name': 'Default'}\n"
     ]
    }
   ],
   "source": [
    "default_experiment = [\n",
    "    {\"name\": experiment.name, \"lifecycle_stage\": experiment.lifecycle_stage}\n",
    "    for experiment in all_experiments\n",
    "    if experiment.name == \"Default\"\n",
    "][0]\n",
    "\n",
    "pprint(default_experiment)"
   ]
  },
  {
   "cell_type": "code",
   "execution_count": 17,
   "metadata": {},
   "outputs": [],
   "source": [
    "experiment_description = (\n",
    "    \"A Test Experiment about MNIST Dataset in MLFlow\"\n",
    ")\n",
    "\n",
    "experiment_tags = {\n",
    "    \"project-name\": \"Mnist-Lab\",\n",
    "    \"mlflow.note.content\": experiment_description\n",
    "}\n",
    "\n",
    "mnist_experiment = client.create_experiment(\n",
    "    name=\"MLFlow-Start-1\",\n",
    "    tags=experiment_tags\n",
    ")"
   ]
  },
  {
   "cell_type": "code",
   "execution_count": 18,
   "metadata": {},
   "outputs": [],
   "source": [
    "# Use search_experiments() to search on the project_name tag key\n",
    "\n",
    "mnistlab_experiment = client.search_experiments(\n",
    "    filter_string=\"tags.`project-name` = 'Mnist-Lab'\"\n",
    ")\n"
   ]
  },
  {
   "cell_type": "code",
   "execution_count": 19,
   "metadata": {},
   "outputs": [],
   "source": [
    "from torchvision.datasets import MNIST\n",
    "from torchvision.transforms import Compose, ToTensor, Normalize\n",
    "\n",
    "\n",
    "transform = Compose([\n",
    "    ToTensor(),\n",
    "    Normalize((0.5,), (0.5,))\n",
    "])\n",
    "\n",
    "data_train = MNIST(root=\"./\", download=True, train=True, transform=transform)\n",
    "data_test = MNIST(root=\"./\", download=True, train=False, transform=transform)"
   ]
  },
  {
   "cell_type": "code",
   "execution_count": 20,
   "metadata": {},
   "outputs": [],
   "source": [
    "\n",
    "params = {\n",
    "    \"lr\": 0.0001,\n",
    "    \"epochs\": 5\n",
    "}"
   ]
  },
  {
   "cell_type": "code",
   "execution_count": 21,
   "metadata": {},
   "outputs": [],
   "source": [
    "from torch.utils.data import DataLoader\n",
    "\n",
    "train_loaded = DataLoader(data_train, batch_size=32, shuffle=True)\n",
    "test_loaded = DataLoader(data_test, batch_size=32, shuffle=True)"
   ]
  },
  {
   "cell_type": "code",
   "execution_count": 22,
   "metadata": {},
   "outputs": [],
   "source": [
    "from torch import nn\n",
    "\n",
    "class MnistModel(nn.Module):\n",
    "    def __init__(self):\n",
    "        super(MnistModel, self).__init__()\n",
    "        self.cnn_layers = nn.Sequential(\n",
    "            #CONV1\n",
    "            nn.Conv2d(1, 6, 3),\n",
    "            nn.ReLU(),\n",
    "            nn.MaxPool2d(2),\n",
    "            \n",
    "            #CONV2\n",
    "            nn.Conv2d(6, 32, 3),\n",
    "            nn.ReLU(),\n",
    "            nn.MaxPool2d(2),\n",
    "        )\n",
    "        \n",
    "        self.linear_layers = nn.Sequential(\n",
    "            nn.Linear(32*5*5, 200),\n",
    "            nn.ReLU(),\n",
    "            nn.Linear(200, 80),\n",
    "            nn.ReLU(),\n",
    "            nn.Linear(80, 10),\n",
    "        )\n",
    "    def forward(self, x):\n",
    "        x = self.cnn_layers(x)\n",
    "        x = x.view(x.size(0), -1)\n",
    "        x = self.linear_layers(x)\n",
    "        return x\n",
    "    \n",
    "\n",
    "model = MnistModel()"
   ]
  },
  {
   "cell_type": "code",
   "execution_count": 23,
   "metadata": {},
   "outputs": [],
   "source": [
    "from torch import optim\n",
    "\n",
    "optimizer = optim.Adam(model.parameters(), lr=params[\"lr\"])\n",
    "criterion = nn.CrossEntropyLoss()"
   ]
  },
  {
   "cell_type": "code",
   "execution_count": 24,
   "metadata": {},
   "outputs": [
    {
     "name": "stderr",
     "output_type": "stream",
     "text": [
      "Fitting Epoch 1: 0it [00:00, ?it/s]"
     ]
    },
    {
     "name": "stderr",
     "output_type": "stream",
     "text": [
      "Fitting Epoch 1: 1875it [00:26, 70.80it/s]\n",
      "Validating the model: 313it [00:03, 102.83it/s]\n"
     ]
    },
    {
     "name": "stdout",
     "output_type": "stream",
     "text": [
      "Epoch: 1/5   Training loss: 0.5134   Testing loss: 0.1806   Train accuracy: 0.8535   Test accuracy: 0.9481  \n"
     ]
    },
    {
     "name": "stderr",
     "output_type": "stream",
     "text": [
      "Fitting Epoch 2: 1875it [00:29, 63.28it/s]\n",
      "Validating the model: 313it [00:03, 90.91it/s]\n"
     ]
    },
    {
     "name": "stdout",
     "output_type": "stream",
     "text": [
      "Epoch: 2/5   Training loss: 0.1528   Testing loss: 0.1144   Train accuracy: 0.9542   Test accuracy: 0.9663  \n"
     ]
    },
    {
     "name": "stderr",
     "output_type": "stream",
     "text": [
      "Fitting Epoch 3: 1875it [00:30, 61.73it/s]\n",
      "Validating the model: 313it [00:03, 95.19it/s] \n"
     ]
    },
    {
     "name": "stdout",
     "output_type": "stream",
     "text": [
      "Epoch: 3/5   Training loss: 0.1060   Testing loss: 0.0817   Train accuracy: 0.9679   Test accuracy: 0.9747  \n"
     ]
    },
    {
     "name": "stderr",
     "output_type": "stream",
     "text": [
      "Fitting Epoch 4: 1875it [00:30, 61.13it/s]\n",
      "Validating the model: 313it [00:03, 90.33it/s] \n"
     ]
    },
    {
     "name": "stdout",
     "output_type": "stream",
     "text": [
      "Epoch: 4/5   Training loss: 0.0847   Testing loss: 0.0691   Train accuracy: 0.9740   Test accuracy: 0.9774  \n"
     ]
    },
    {
     "name": "stderr",
     "output_type": "stream",
     "text": [
      "Fitting Epoch 5: 1875it [00:31, 60.09it/s]\n",
      "Validating the model: 313it [00:03, 93.93it/s] "
     ]
    },
    {
     "name": "stdout",
     "output_type": "stream",
     "text": [
      "Epoch: 5/5   Training loss: 0.0721   Testing loss: 0.0655   Train accuracy: 0.9781   Test accuracy: 0.9791  \n"
     ]
    },
    {
     "name": "stderr",
     "output_type": "stream",
     "text": [
      "\n"
     ]
    }
   ],
   "source": [
    "#Training the model\n",
    "from tqdm import tqdm\n",
    "import torch\n",
    "#Lists to get all the data about training\n",
    "train_loss, test_loss = [], []\n",
    "accuracy_train, accuracy_test = [], []\n",
    "for epoch in range(params[\"epochs\"]):\n",
    "    total_train_loss = 0\n",
    "    total_test_loss = 0\n",
    "    \n",
    "    model.train()\n",
    "    \n",
    "    total = 0\n",
    "    for index, (image, label) in tqdm(enumerate(train_loaded), desc=f\"Fitting Epoch {epoch + 1}\"):\n",
    "        \n",
    "        optimizer.zero_grad()\n",
    "        \n",
    "        pred = model(image)\n",
    "        \n",
    "        loss = criterion(pred, label)\n",
    "        total_train_loss += loss.item()\n",
    "        \n",
    "        loss.backward()\n",
    "        optimizer.step()\n",
    "        \n",
    "        pred = nn.functional.softmax(pred, dim=1)\n",
    "        for i, p in enumerate(pred):\n",
    "            if label[i] == torch.max(p.data, 0)[1]:\n",
    "                total = total + 1\n",
    "    \n",
    "    train_accuracy = total / len(data_train)\n",
    "    total_train_loss = total_train_loss / (index + 1)\n",
    "    \n",
    "    accuracy_train.append(train_accuracy)\n",
    "    train_loss.append(total_train_loss)\n",
    "    \n",
    "    #Validating the model\n",
    "    model.eval()\n",
    "    total = 0\n",
    "    for index, (image, label) in tqdm(enumerate(test_loaded), desc=\"Validating the model\"):\n",
    "        pred = model(image)\n",
    "        \n",
    "        loss = criterion(pred, label)\n",
    "        total_test_loss += loss.item()\n",
    "        \n",
    "        pred = nn.functional.softmax(pred, dim=1)\n",
    "        for i, p in enumerate(pred):\n",
    "            if label[i] == torch.max(p.data, 0)[1]:\n",
    "                total = total + 1\n",
    "    test_accuracy = total / len(data_test)\n",
    "    total_test_loss = total_test_loss / (index + 1)\n",
    "    \n",
    "    accuracy_test.append(test_accuracy)\n",
    "    test_loss.append(total_test_loss)\n",
    "    \n",
    "    print(\"Epoch: {}/{}  \".format(epoch + 1, params[\"epochs\"]),\n",
    "            \"Training loss: {:.4f}  \".format(total_train_loss),\n",
    "            \"Testing loss: {:.4f}  \".format(total_test_loss),\n",
    "            \"Train accuracy: {:.4f}  \".format(train_accuracy),\n",
    "            \"Test accuracy: {:.4f}  \".format(test_accuracy))"
   ]
  },
  {
   "cell_type": "code",
   "execution_count": 25,
   "metadata": {},
   "outputs": [],
   "source": [
    "metrics = {\n",
    "    \"accuracy-average-train\": sum(accuracy_train) / len(accuracy_train),\n",
    "    \"accuracy-average-test\": sum(accuracy_test) / len(accuracy_test),\n",
    "    \"loss-average-train\": sum(train_loss) / len(train_loss),\n",
    "    \"loss-average-test\": sum(test_loss) / len(test_loss)\n",
    "}"
   ]
  },
  {
   "cell_type": "code",
   "execution_count": 26,
   "metadata": {},
   "outputs": [
    {
     "name": "stderr",
     "output_type": "stream",
     "text": [
      "2024/06/19 17:38:11 WARNING mlflow.utils.requirements_utils: Found torch version (2.2.1+cpu) contains a local version label (+cpu). MLflow logged a pip requirement for this package as 'torch==2.2.1' without the local version label to make it installable from PyPI. To specify pip requirements containing local version labels, please use `conda_env` or `pip_requirements`.\n",
      "2024/06/19 17:38:16 WARNING mlflow.utils.requirements_utils: Found torch version (2.2.1+cpu) contains a local version label (+cpu). MLflow logged a pip requirement for this package as 'torch==2.2.1' without the local version label to make it installable from PyPI. To specify pip requirements containing local version labels, please use `conda_env` or `pip_requirements`.\n"
     ]
    }
   ],
   "source": [
    "import mlflow\n",
    "mlflow.set_tracking_uri(\"http://127.0.0.1:8080\")\n",
    "\n",
    "experiment = {\n",
    "    \"name\": \"MLFlow-Start\",\n",
    "    \"run-name\": \"mnist_test\",\n",
    "    \"artifact_path\": \"rf_mnist\"\n",
    "}\n",
    "\n",
    "mlflow.set_experiment(experiment[\"name\"])\n",
    "\n",
    "with mlflow.start_run(run_name=experiment[\"run-name\"]) as run:\n",
    "    mlflow.log_params(params)\n",
    "    mlflow.log_metrics(metrics)\n",
    "    mlflow.pytorch.log_model(\n",
    "        pytorch_model = model,\n",
    "        artifact_path = experiment[\"artifact_path\"]\n",
    "    )\n",
    "    "
   ]
  }
 ],
 "metadata": {
  "kernelspec": {
   "display_name": "venv",
   "language": "python",
   "name": "python3"
  },
  "language_info": {
   "codemirror_mode": {
    "name": "ipython",
    "version": 3
   },
   "file_extension": ".py",
   "mimetype": "text/x-python",
   "name": "python",
   "nbconvert_exporter": "python",
   "pygments_lexer": "ipython3",
   "version": "3.10.12"
  }
 },
 "nbformat": 4,
 "nbformat_minor": 2
}
